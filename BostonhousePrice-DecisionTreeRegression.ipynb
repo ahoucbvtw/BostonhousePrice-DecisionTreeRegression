{
  "nbformat": 4,
  "nbformat_minor": 0,
  "metadata": {
    "colab": {
      "name": "Regression.ipynb",
      "provenance": [],
      "collapsed_sections": [],
      "authorship_tag": "ABX9TyMBtZVathZJ9WGVnCzK4lKA",
      "include_colab_link": true
    },
    "kernelspec": {
      "name": "python3",
      "display_name": "Python 3"
    },
    "accelerator": "GPU"
  },
  "cells": [
    {
      "cell_type": "markdown",
      "metadata": {
        "id": "view-in-github",
        "colab_type": "text"
      },
      "source": [
        "<a href=\"https://colab.research.google.com/github/ahoucbvtw/BostonhousePrice-DecisionTreeRegression/blob/main/BostonhousePrice-DecisionTreeRegression.ipynb\" target=\"_parent\"><img src=\"https://colab.research.google.com/assets/colab-badge.svg\" alt=\"Open In Colab\"/></a>"
      ]
    },
    {
      "cell_type": "markdown",
      "metadata": {
        "id": "DtfUShIsqBnI"
      },
      "source": [
        "CRIM：人均犯罪率\n",
        "\n",
        "ZN：25,000平方英尺以上民用土地的比例\n",
        "\n",
        "INDUS：城镇非零售业商用土地比例\n",
        "\n",
        "CHAS：是否邻近查尔斯河，1是邻近，0是不邻近\n",
        "\n",
        "NOX：一氧化氮浓度（千万分之一）\n",
        "\n",
        "RM：住宅的平均房间数(高坪數)\n",
        "\n",
        "AGE：自住且建于1940年前的房屋比例\n",
        "\n",
        "DIS：到5个波士顿就业中心的加权距离(與工作地方的距離)\n",
        "\n",
        "RAD：到高速公路的便捷度指数\n",
        "\n",
        "TAX：每万元的房产税率\n",
        "\n",
        "PTRATIO：城镇学生教师比例\n",
        "\n",
        "B： 1000(Bk − 0.63)2 其中Bk是城镇中黑人比例\n",
        "\n",
        "LSTAT：低收入人群比例\n",
        "\n",
        "ans：自住房中位数价格，单位是千元"
      ]
    },
    {
      "cell_type": "code",
      "metadata": {
        "id": "SpngRleTkSr8",
        "colab": {
          "base_uri": "https://localhost:8080/",
          "height": 419
        },
        "outputId": "ff79f0c6-a438-4eba-a647-da6807c38812"
      },
      "source": [
        "from sklearn.datasets import load_boston\n",
        "import pandas as pd\n",
        "boston = load_boston()\n",
        "\n",
        "data = pd.DataFrame(boston[\"data\"], columns = boston[\"feature_names\"])\n",
        "data[\"answer\"] = boston[\"target\"]\n",
        "data#這是類似print(data)的意思"
      ],
      "execution_count": 1,
      "outputs": [
        {
          "output_type": "execute_result",
          "data": {
            "text/html": [
              "<div>\n",
              "<style scoped>\n",
              "    .dataframe tbody tr th:only-of-type {\n",
              "        vertical-align: middle;\n",
              "    }\n",
              "\n",
              "    .dataframe tbody tr th {\n",
              "        vertical-align: top;\n",
              "    }\n",
              "\n",
              "    .dataframe thead th {\n",
              "        text-align: right;\n",
              "    }\n",
              "</style>\n",
              "<table border=\"1\" class=\"dataframe\">\n",
              "  <thead>\n",
              "    <tr style=\"text-align: right;\">\n",
              "      <th></th>\n",
              "      <th>CRIM</th>\n",
              "      <th>ZN</th>\n",
              "      <th>INDUS</th>\n",
              "      <th>CHAS</th>\n",
              "      <th>NOX</th>\n",
              "      <th>RM</th>\n",
              "      <th>AGE</th>\n",
              "      <th>DIS</th>\n",
              "      <th>RAD</th>\n",
              "      <th>TAX</th>\n",
              "      <th>PTRATIO</th>\n",
              "      <th>B</th>\n",
              "      <th>LSTAT</th>\n",
              "      <th>answer</th>\n",
              "    </tr>\n",
              "  </thead>\n",
              "  <tbody>\n",
              "    <tr>\n",
              "      <th>0</th>\n",
              "      <td>0.00632</td>\n",
              "      <td>18.0</td>\n",
              "      <td>2.31</td>\n",
              "      <td>0.0</td>\n",
              "      <td>0.538</td>\n",
              "      <td>6.575</td>\n",
              "      <td>65.2</td>\n",
              "      <td>4.0900</td>\n",
              "      <td>1.0</td>\n",
              "      <td>296.0</td>\n",
              "      <td>15.3</td>\n",
              "      <td>396.90</td>\n",
              "      <td>4.98</td>\n",
              "      <td>24.0</td>\n",
              "    </tr>\n",
              "    <tr>\n",
              "      <th>1</th>\n",
              "      <td>0.02731</td>\n",
              "      <td>0.0</td>\n",
              "      <td>7.07</td>\n",
              "      <td>0.0</td>\n",
              "      <td>0.469</td>\n",
              "      <td>6.421</td>\n",
              "      <td>78.9</td>\n",
              "      <td>4.9671</td>\n",
              "      <td>2.0</td>\n",
              "      <td>242.0</td>\n",
              "      <td>17.8</td>\n",
              "      <td>396.90</td>\n",
              "      <td>9.14</td>\n",
              "      <td>21.6</td>\n",
              "    </tr>\n",
              "    <tr>\n",
              "      <th>2</th>\n",
              "      <td>0.02729</td>\n",
              "      <td>0.0</td>\n",
              "      <td>7.07</td>\n",
              "      <td>0.0</td>\n",
              "      <td>0.469</td>\n",
              "      <td>7.185</td>\n",
              "      <td>61.1</td>\n",
              "      <td>4.9671</td>\n",
              "      <td>2.0</td>\n",
              "      <td>242.0</td>\n",
              "      <td>17.8</td>\n",
              "      <td>392.83</td>\n",
              "      <td>4.03</td>\n",
              "      <td>34.7</td>\n",
              "    </tr>\n",
              "    <tr>\n",
              "      <th>3</th>\n",
              "      <td>0.03237</td>\n",
              "      <td>0.0</td>\n",
              "      <td>2.18</td>\n",
              "      <td>0.0</td>\n",
              "      <td>0.458</td>\n",
              "      <td>6.998</td>\n",
              "      <td>45.8</td>\n",
              "      <td>6.0622</td>\n",
              "      <td>3.0</td>\n",
              "      <td>222.0</td>\n",
              "      <td>18.7</td>\n",
              "      <td>394.63</td>\n",
              "      <td>2.94</td>\n",
              "      <td>33.4</td>\n",
              "    </tr>\n",
              "    <tr>\n",
              "      <th>4</th>\n",
              "      <td>0.06905</td>\n",
              "      <td>0.0</td>\n",
              "      <td>2.18</td>\n",
              "      <td>0.0</td>\n",
              "      <td>0.458</td>\n",
              "      <td>7.147</td>\n",
              "      <td>54.2</td>\n",
              "      <td>6.0622</td>\n",
              "      <td>3.0</td>\n",
              "      <td>222.0</td>\n",
              "      <td>18.7</td>\n",
              "      <td>396.90</td>\n",
              "      <td>5.33</td>\n",
              "      <td>36.2</td>\n",
              "    </tr>\n",
              "    <tr>\n",
              "      <th>...</th>\n",
              "      <td>...</td>\n",
              "      <td>...</td>\n",
              "      <td>...</td>\n",
              "      <td>...</td>\n",
              "      <td>...</td>\n",
              "      <td>...</td>\n",
              "      <td>...</td>\n",
              "      <td>...</td>\n",
              "      <td>...</td>\n",
              "      <td>...</td>\n",
              "      <td>...</td>\n",
              "      <td>...</td>\n",
              "      <td>...</td>\n",
              "      <td>...</td>\n",
              "    </tr>\n",
              "    <tr>\n",
              "      <th>501</th>\n",
              "      <td>0.06263</td>\n",
              "      <td>0.0</td>\n",
              "      <td>11.93</td>\n",
              "      <td>0.0</td>\n",
              "      <td>0.573</td>\n",
              "      <td>6.593</td>\n",
              "      <td>69.1</td>\n",
              "      <td>2.4786</td>\n",
              "      <td>1.0</td>\n",
              "      <td>273.0</td>\n",
              "      <td>21.0</td>\n",
              "      <td>391.99</td>\n",
              "      <td>9.67</td>\n",
              "      <td>22.4</td>\n",
              "    </tr>\n",
              "    <tr>\n",
              "      <th>502</th>\n",
              "      <td>0.04527</td>\n",
              "      <td>0.0</td>\n",
              "      <td>11.93</td>\n",
              "      <td>0.0</td>\n",
              "      <td>0.573</td>\n",
              "      <td>6.120</td>\n",
              "      <td>76.7</td>\n",
              "      <td>2.2875</td>\n",
              "      <td>1.0</td>\n",
              "      <td>273.0</td>\n",
              "      <td>21.0</td>\n",
              "      <td>396.90</td>\n",
              "      <td>9.08</td>\n",
              "      <td>20.6</td>\n",
              "    </tr>\n",
              "    <tr>\n",
              "      <th>503</th>\n",
              "      <td>0.06076</td>\n",
              "      <td>0.0</td>\n",
              "      <td>11.93</td>\n",
              "      <td>0.0</td>\n",
              "      <td>0.573</td>\n",
              "      <td>6.976</td>\n",
              "      <td>91.0</td>\n",
              "      <td>2.1675</td>\n",
              "      <td>1.0</td>\n",
              "      <td>273.0</td>\n",
              "      <td>21.0</td>\n",
              "      <td>396.90</td>\n",
              "      <td>5.64</td>\n",
              "      <td>23.9</td>\n",
              "    </tr>\n",
              "    <tr>\n",
              "      <th>504</th>\n",
              "      <td>0.10959</td>\n",
              "      <td>0.0</td>\n",
              "      <td>11.93</td>\n",
              "      <td>0.0</td>\n",
              "      <td>0.573</td>\n",
              "      <td>6.794</td>\n",
              "      <td>89.3</td>\n",
              "      <td>2.3889</td>\n",
              "      <td>1.0</td>\n",
              "      <td>273.0</td>\n",
              "      <td>21.0</td>\n",
              "      <td>393.45</td>\n",
              "      <td>6.48</td>\n",
              "      <td>22.0</td>\n",
              "    </tr>\n",
              "    <tr>\n",
              "      <th>505</th>\n",
              "      <td>0.04741</td>\n",
              "      <td>0.0</td>\n",
              "      <td>11.93</td>\n",
              "      <td>0.0</td>\n",
              "      <td>0.573</td>\n",
              "      <td>6.030</td>\n",
              "      <td>80.8</td>\n",
              "      <td>2.5050</td>\n",
              "      <td>1.0</td>\n",
              "      <td>273.0</td>\n",
              "      <td>21.0</td>\n",
              "      <td>396.90</td>\n",
              "      <td>7.88</td>\n",
              "      <td>11.9</td>\n",
              "    </tr>\n",
              "  </tbody>\n",
              "</table>\n",
              "<p>506 rows × 14 columns</p>\n",
              "</div>"
            ],
            "text/plain": [
              "        CRIM    ZN  INDUS  CHAS    NOX  ...    TAX  PTRATIO       B  LSTAT  answer\n",
              "0    0.00632  18.0   2.31   0.0  0.538  ...  296.0     15.3  396.90   4.98    24.0\n",
              "1    0.02731   0.0   7.07   0.0  0.469  ...  242.0     17.8  396.90   9.14    21.6\n",
              "2    0.02729   0.0   7.07   0.0  0.469  ...  242.0     17.8  392.83   4.03    34.7\n",
              "3    0.03237   0.0   2.18   0.0  0.458  ...  222.0     18.7  394.63   2.94    33.4\n",
              "4    0.06905   0.0   2.18   0.0  0.458  ...  222.0     18.7  396.90   5.33    36.2\n",
              "..       ...   ...    ...   ...    ...  ...    ...      ...     ...    ...     ...\n",
              "501  0.06263   0.0  11.93   0.0  0.573  ...  273.0     21.0  391.99   9.67    22.4\n",
              "502  0.04527   0.0  11.93   0.0  0.573  ...  273.0     21.0  396.90   9.08    20.6\n",
              "503  0.06076   0.0  11.93   0.0  0.573  ...  273.0     21.0  396.90   5.64    23.9\n",
              "504  0.10959   0.0  11.93   0.0  0.573  ...  273.0     21.0  393.45   6.48    22.0\n",
              "505  0.04741   0.0  11.93   0.0  0.573  ...  273.0     21.0  396.90   7.88    11.9\n",
              "\n",
              "[506 rows x 14 columns]"
            ]
          },
          "metadata": {
            "tags": []
          },
          "execution_count": 1
        }
      ]
    },
    {
      "cell_type": "code",
      "metadata": {
        "id": "UDoEWOU1RyO1"
      },
      "source": [
        "x = data.drop([\"answer\"], axis = 1)\n",
        "y = data[\"answer\"]"
      ],
      "execution_count": 2,
      "outputs": []
    },
    {
      "cell_type": "code",
      "metadata": {
        "id": "PedMImk_Qy4n"
      },
      "source": [
        "from sklearn.model_selection import train_test_split\n",
        "#將資料隨機拆分成多少等份\n",
        "#train_test_split([1, 2, 3, 4],[5, 6, 7, 8], test_size = 0.25)\n",
        "#拆成9份訓練/1份驗證測試(random_state = 0 可以把每次切分都相同資料，但選擇還是隨機選)\n",
        "#訓練和測試盡量9/1或8/2分，讓訓練資料要多一點\n",
        "#[x_train, x_test, y_train, y_test]\n",
        "x_train, x_test, y_train, y_test = train_test_split(x, y, test_size = 0.1, random_state = 2)"
      ],
      "execution_count": 3,
      "outputs": []
    },
    {
      "cell_type": "code",
      "metadata": {
        "id": "mFmuRyULVe8M",
        "colab": {
          "base_uri": "https://localhost:8080/"
        },
        "outputId": "3f8491db-38a7-401d-c24a-7a15790db113"
      },
      "source": [
        "from sklearn.tree import DecisionTreeRegressor\n",
        "#準備演算法(設定max_depth = ?層來防止過度訓練導致驗證不准，依照各個資料來設定，欄位越多通常設定越大)\n",
        "reg = DecisionTreeRegressor(max_depth = 4, random_state = 2)\n",
        "#把資料帶入獲得完整模型\n",
        "reg.fit(x_train, y_train)"
      ],
      "execution_count": 4,
      "outputs": [
        {
          "output_type": "execute_result",
          "data": {
            "text/plain": [
              "DecisionTreeRegressor(ccp_alpha=0.0, criterion='mse', max_depth=4,\n",
              "                      max_features=None, max_leaf_nodes=None,\n",
              "                      min_impurity_decrease=0.0, min_impurity_split=None,\n",
              "                      min_samples_leaf=1, min_samples_split=2,\n",
              "                      min_weight_fraction_leaf=0.0, presort='deprecated',\n",
              "                      random_state=2, splitter='best')"
            ]
          },
          "metadata": {
            "tags": []
          },
          "execution_count": 4
        }
      ]
    },
    {
      "cell_type": "code",
      "metadata": {
        "id": "UsX8yBkRWfX7",
        "colab": {
          "base_uri": "https://localhost:8080/",
          "height": 634
        },
        "outputId": "58dc4031-78f2-47bd-cb5c-a881ae0fb490"
      },
      "source": [
        "import graphviz\n",
        "from sklearn.tree import export_graphviz\n",
        "#製作一決策樹=>可以使信心程度提高說這是屬於哪個分類\n",
        "#分佈率 mse = 與中心距離的信心程度，所以最後越小越準\n",
        "#(1/n)*Σ(Pi-平均) ≒ 0 => 信心越大\n",
        "a = export_graphviz(reg, \n",
        "                feature_names = x.columns,  \n",
        "                filled = True,\n",
        "                max_depth = 3)\n",
        "graphviz.Source(a)"
      ],
      "execution_count": 5,
      "outputs": [
        {
          "output_type": "execute_result",
          "data": {
            "text/plain": [
              "<graphviz.files.Source at 0x7fa35af3bfd0>"
            ],
            "image/svg+xml": "<?xml version=\"1.0\" encoding=\"UTF-8\" standalone=\"no\"?>\n<!DOCTYPE svg PUBLIC \"-//W3C//DTD SVG 1.1//EN\"\n \"http://www.w3.org/Graphics/SVG/1.1/DTD/svg11.dtd\">\n<!-- Generated by graphviz version 2.40.1 (20161225.0304)\n -->\n<!-- Title: Tree Pages: 1 -->\n<svg width=\"1070pt\" height=\"460pt\"\n viewBox=\"0.00 0.00 1069.50 460.00\" xmlns=\"http://www.w3.org/2000/svg\" xmlns:xlink=\"http://www.w3.org/1999/xlink\">\n<g id=\"graph0\" class=\"graph\" transform=\"scale(1 1) rotate(0) translate(4 456)\">\n<title>Tree</title>\n<polygon fill=\"#ffffff\" stroke=\"transparent\" points=\"-4,4 -4,-456 1065.5,-456 1065.5,4 -4,4\"/>\n<!-- 0 -->\n<g id=\"node1\" class=\"node\">\n<title>0</title>\n<polygon fill=\"#f7d8c2\" stroke=\"#000000\" points=\"617,-452 513,-452 513,-384 617,-384 617,-452\"/>\n<text text-anchor=\"middle\" x=\"565\" y=\"-436.8\" font-family=\"Times,serif\" font-size=\"14.00\" fill=\"#000000\">RM &lt;= 6.853</text>\n<text text-anchor=\"middle\" x=\"565\" y=\"-421.8\" font-family=\"Times,serif\" font-size=\"14.00\" fill=\"#000000\">mse = 85.539</text>\n<text text-anchor=\"middle\" x=\"565\" y=\"-406.8\" font-family=\"Times,serif\" font-size=\"14.00\" fill=\"#000000\">samples = 455</text>\n<text text-anchor=\"middle\" x=\"565\" y=\"-391.8\" font-family=\"Times,serif\" font-size=\"14.00\" fill=\"#000000\">value = 22.624</text>\n</g>\n<!-- 1 -->\n<g id=\"node2\" class=\"node\">\n<title>1</title>\n<polygon fill=\"#f9e1d0\" stroke=\"#000000\" points=\"489,-348 379,-348 379,-280 489,-280 489,-348\"/>\n<text text-anchor=\"middle\" x=\"434\" y=\"-332.8\" font-family=\"Times,serif\" font-size=\"14.00\" fill=\"#000000\">LSTAT &lt;= 14.4</text>\n<text text-anchor=\"middle\" x=\"434\" y=\"-317.8\" font-family=\"Times,serif\" font-size=\"14.00\" fill=\"#000000\">mse = 40.026</text>\n<text text-anchor=\"middle\" x=\"434\" y=\"-302.8\" font-family=\"Times,serif\" font-size=\"14.00\" fill=\"#000000\">samples = 381</text>\n<text text-anchor=\"middle\" x=\"434\" y=\"-287.8\" font-family=\"Times,serif\" font-size=\"14.00\" fill=\"#000000\">value = 19.891</text>\n</g>\n<!-- 0&#45;&gt;1 -->\n<g id=\"edge1\" class=\"edge\">\n<title>0&#45;&gt;1</title>\n<path fill=\"none\" stroke=\"#000000\" d=\"M522.1057,-383.9465C510.2307,-374.519 497.2259,-364.1946 484.9407,-354.4415\"/>\n<polygon fill=\"#000000\" stroke=\"#000000\" points=\"486.9989,-351.6066 476.9907,-348.13 482.6464,-357.089 486.9989,-351.6066\"/>\n<text text-anchor=\"middle\" x=\"479.8442\" y=\"-369.2666\" font-family=\"Times,serif\" font-size=\"14.00\" fill=\"#000000\">True</text>\n</g>\n<!-- 16 -->\n<g id=\"node17\" class=\"node\">\n<title>16</title>\n<polygon fill=\"#eeab7c\" stroke=\"#000000\" points=\"744,-348 640,-348 640,-280 744,-280 744,-348\"/>\n<text text-anchor=\"middle\" x=\"692\" y=\"-332.8\" font-family=\"Times,serif\" font-size=\"14.00\" fill=\"#000000\">RM &lt;= 7.437</text>\n<text text-anchor=\"middle\" x=\"692\" y=\"-317.8\" font-family=\"Times,serif\" font-size=\"14.00\" fill=\"#000000\">mse = 83.51</text>\n<text text-anchor=\"middle\" x=\"692\" y=\"-302.8\" font-family=\"Times,serif\" font-size=\"14.00\" fill=\"#000000\">samples = 74</text>\n<text text-anchor=\"middle\" x=\"692\" y=\"-287.8\" font-family=\"Times,serif\" font-size=\"14.00\" fill=\"#000000\">value = 36.692</text>\n</g>\n<!-- 0&#45;&gt;16 -->\n<g id=\"edge16\" class=\"edge\">\n<title>0&#45;&gt;16</title>\n<path fill=\"none\" stroke=\"#000000\" d=\"M606.5845,-383.9465C617.9873,-374.6088 630.4647,-364.3911 642.2743,-354.7203\"/>\n<polygon fill=\"#000000\" stroke=\"#000000\" points=\"644.8026,-357.1736 650.322,-348.13 640.3676,-351.7578 644.8026,-357.1736\"/>\n<text text-anchor=\"middle\" x=\"647.8451\" y=\"-369.307\" font-family=\"Times,serif\" font-size=\"14.00\" fill=\"#000000\">False</text>\n</g>\n<!-- 2 -->\n<g id=\"node3\" class=\"node\">\n<title>2</title>\n<polygon fill=\"#f7d6be\" stroke=\"#000000\" points=\"289,-244 185,-244 185,-176 289,-176 289,-244\"/>\n<text text-anchor=\"middle\" x=\"237\" y=\"-228.8\" font-family=\"Times,serif\" font-size=\"14.00\" fill=\"#000000\">DIS &lt;= 1.434</text>\n<text text-anchor=\"middle\" x=\"237\" y=\"-213.8\" font-family=\"Times,serif\" font-size=\"14.00\" fill=\"#000000\">mse = 26.408</text>\n<text text-anchor=\"middle\" x=\"237\" y=\"-198.8\" font-family=\"Times,serif\" font-size=\"14.00\" fill=\"#000000\">samples = 223</text>\n<text text-anchor=\"middle\" x=\"237\" y=\"-183.8\" font-family=\"Times,serif\" font-size=\"14.00\" fill=\"#000000\">value = 23.302</text>\n</g>\n<!-- 1&#45;&gt;2 -->\n<g id=\"edge2\" class=\"edge\">\n<title>1&#45;&gt;2</title>\n<path fill=\"none\" stroke=\"#000000\" d=\"M378.8626,-284.8919C353.7125,-271.6147 323.8503,-255.8499 298.0265,-242.217\"/>\n<polygon fill=\"#000000\" stroke=\"#000000\" points=\"299.5524,-239.0648 289.0751,-237.4914 296.2844,-245.2552 299.5524,-239.0648\"/>\n</g>\n<!-- 9 -->\n<g id=\"node10\" class=\"node\">\n<title>9</title>\n<polygon fill=\"#fcf0e8\" stroke=\"#000000\" points=\"487,-244 381,-244 381,-176 487,-176 487,-244\"/>\n<text text-anchor=\"middle\" x=\"434\" y=\"-228.8\" font-family=\"Times,serif\" font-size=\"14.00\" fill=\"#000000\">NOX &lt;= 0.607</text>\n<text text-anchor=\"middle\" x=\"434\" y=\"-213.8\" font-family=\"Times,serif\" font-size=\"14.00\" fill=\"#000000\">mse = 19.643</text>\n<text text-anchor=\"middle\" x=\"434\" y=\"-198.8\" font-family=\"Times,serif\" font-size=\"14.00\" fill=\"#000000\">samples = 158</text>\n<text text-anchor=\"middle\" x=\"434\" y=\"-183.8\" font-family=\"Times,serif\" font-size=\"14.00\" fill=\"#000000\">value = 15.077</text>\n</g>\n<!-- 1&#45;&gt;9 -->\n<g id=\"edge9\" class=\"edge\">\n<title>1&#45;&gt;9</title>\n<path fill=\"none\" stroke=\"#000000\" d=\"M434,-279.9465C434,-271.776 434,-262.9318 434,-254.3697\"/>\n<polygon fill=\"#000000\" stroke=\"#000000\" points=\"437.5001,-254.13 434,-244.13 430.5001,-254.13 437.5001,-254.13\"/>\n</g>\n<!-- 3 -->\n<g id=\"node4\" class=\"node\">\n<title>3</title>\n<polygon fill=\"#e88f4f\" stroke=\"#000000\" points=\"158.5,-140 39.5,-140 39.5,-72 158.5,-72 158.5,-140\"/>\n<text text-anchor=\"middle\" x=\"99\" y=\"-124.8\" font-family=\"Times,serif\" font-size=\"14.00\" fill=\"#000000\">CRIM &lt;= 10.592</text>\n<text text-anchor=\"middle\" x=\"99\" y=\"-109.8\" font-family=\"Times,serif\" font-size=\"14.00\" fill=\"#000000\">mse = 78.146</text>\n<text text-anchor=\"middle\" x=\"99\" y=\"-94.8\" font-family=\"Times,serif\" font-size=\"14.00\" fill=\"#000000\">samples = 5</text>\n<text text-anchor=\"middle\" x=\"99\" y=\"-79.8\" font-family=\"Times,serif\" font-size=\"14.00\" fill=\"#000000\">value = 45.58</text>\n</g>\n<!-- 2&#45;&gt;3 -->\n<g id=\"edge3\" class=\"edge\">\n<title>2&#45;&gt;3</title>\n<path fill=\"none\" stroke=\"#000000\" d=\"M191.8136,-175.9465C179.185,-166.4293 165.3433,-155.9978 152.2932,-146.163\"/>\n<polygon fill=\"#000000\" stroke=\"#000000\" points=\"154.3805,-143.3534 144.2879,-140.13 150.1675,-148.9437 154.3805,-143.3534\"/>\n</g>\n<!-- 6 -->\n<g id=\"node7\" class=\"node\">\n<title>6</title>\n<polygon fill=\"#f7d8c1\" stroke=\"#000000\" points=\"289,-140 185,-140 185,-72 289,-72 289,-140\"/>\n<text text-anchor=\"middle\" x=\"237\" y=\"-124.8\" font-family=\"Times,serif\" font-size=\"14.00\" fill=\"#000000\">RM &lt;= 6.544</text>\n<text text-anchor=\"middle\" x=\"237\" y=\"-109.8\" font-family=\"Times,serif\" font-size=\"14.00\" fill=\"#000000\">mse = 13.577</text>\n<text text-anchor=\"middle\" x=\"237\" y=\"-94.8\" font-family=\"Times,serif\" font-size=\"14.00\" fill=\"#000000\">samples = 218</text>\n<text text-anchor=\"middle\" x=\"237\" y=\"-79.8\" font-family=\"Times,serif\" font-size=\"14.00\" fill=\"#000000\">value = 22.791</text>\n</g>\n<!-- 2&#45;&gt;6 -->\n<g id=\"edge6\" class=\"edge\">\n<title>2&#45;&gt;6</title>\n<path fill=\"none\" stroke=\"#000000\" d=\"M237,-175.9465C237,-167.776 237,-158.9318 237,-150.3697\"/>\n<polygon fill=\"#000000\" stroke=\"#000000\" points=\"240.5001,-150.13 237,-140.13 233.5001,-150.13 240.5001,-150.13\"/>\n</g>\n<!-- 4 -->\n<g id=\"node5\" class=\"node\">\n<title>4</title>\n<polygon fill=\"#c0c0c0\" stroke=\"#000000\" points=\"54,-36 0,-36 0,0 54,0 54,-36\"/>\n<text text-anchor=\"middle\" x=\"27\" y=\"-14.3\" font-family=\"Times,serif\" font-size=\"14.00\" fill=\"#000000\">(...)</text>\n</g>\n<!-- 3&#45;&gt;4 -->\n<g id=\"edge4\" class=\"edge\">\n<title>3&#45;&gt;4</title>\n<path fill=\"none\" stroke=\"#000000\" d=\"M71.1629,-71.9769C63.6059,-62.7406 55.5424,-52.8851 48.4014,-44.1573\"/>\n<polygon fill=\"#000000\" stroke=\"#000000\" points=\"50.9256,-41.7152 41.8843,-36.192 45.5079,-46.1479 50.9256,-41.7152\"/>\n</g>\n<!-- 5 -->\n<g id=\"node6\" class=\"node\">\n<title>5</title>\n<polygon fill=\"#c0c0c0\" stroke=\"#000000\" points=\"126,-36 72,-36 72,0 126,0 126,-36\"/>\n<text text-anchor=\"middle\" x=\"99\" y=\"-14.3\" font-family=\"Times,serif\" font-size=\"14.00\" fill=\"#000000\">(...)</text>\n</g>\n<!-- 3&#45;&gt;5 -->\n<g id=\"edge5\" class=\"edge\">\n<title>3&#45;&gt;5</title>\n<path fill=\"none\" stroke=\"#000000\" d=\"M99,-71.9769C99,-63.5023 99,-54.5065 99,-46.3388\"/>\n<polygon fill=\"#000000\" stroke=\"#000000\" points=\"102.5001,-46.1919 99,-36.192 95.5001,-46.192 102.5001,-46.1919\"/>\n</g>\n<!-- 7 -->\n<g id=\"node8\" class=\"node\">\n<title>7</title>\n<polygon fill=\"#c0c0c0\" stroke=\"#000000\" points=\"198,-36 144,-36 144,0 198,0 198,-36\"/>\n<text text-anchor=\"middle\" x=\"171\" y=\"-14.3\" font-family=\"Times,serif\" font-size=\"14.00\" fill=\"#000000\">(...)</text>\n</g>\n<!-- 6&#45;&gt;7 -->\n<g id=\"edge7\" class=\"edge\">\n<title>6&#45;&gt;7</title>\n<path fill=\"none\" stroke=\"#000000\" d=\"M211.4827,-71.9769C204.6269,-62.8358 197.3162,-53.0883 190.8207,-44.4276\"/>\n<polygon fill=\"#000000\" stroke=\"#000000\" points=\"193.444,-42.092 184.644,-36.192 187.844,-46.292 193.444,-42.092\"/>\n</g>\n<!-- 8 -->\n<g id=\"node9\" class=\"node\">\n<title>8</title>\n<polygon fill=\"#c0c0c0\" stroke=\"#000000\" points=\"270,-36 216,-36 216,0 270,0 270,-36\"/>\n<text text-anchor=\"middle\" x=\"243\" y=\"-14.3\" font-family=\"Times,serif\" font-size=\"14.00\" fill=\"#000000\">(...)</text>\n</g>\n<!-- 6&#45;&gt;8 -->\n<g id=\"edge8\" class=\"edge\">\n<title>6&#45;&gt;8</title>\n<path fill=\"none\" stroke=\"#000000\" d=\"M239.3198,-71.9769C239.8976,-63.5023 240.5109,-54.5065 241.0678,-46.3388\"/>\n<polygon fill=\"#000000\" stroke=\"#000000\" points=\"244.5712,-46.4069 241.7596,-36.192 237.5874,-45.9307 244.5712,-46.4069\"/>\n</g>\n<!-- 10 -->\n<g id=\"node11\" class=\"node\">\n<title>10</title>\n<polygon fill=\"#fae6d8\" stroke=\"#000000\" points=\"423.5,-140 312.5,-140 312.5,-72 423.5,-72 423.5,-140\"/>\n<text text-anchor=\"middle\" x=\"368\" y=\"-124.8\" font-family=\"Times,serif\" font-size=\"14.00\" fill=\"#000000\">CRIM &lt;= 0.382</text>\n<text text-anchor=\"middle\" x=\"368\" y=\"-109.8\" font-family=\"Times,serif\" font-size=\"14.00\" fill=\"#000000\">mse = 12.307</text>\n<text text-anchor=\"middle\" x=\"368\" y=\"-94.8\" font-family=\"Times,serif\" font-size=\"14.00\" fill=\"#000000\">samples = 65</text>\n<text text-anchor=\"middle\" x=\"368\" y=\"-79.8\" font-family=\"Times,serif\" font-size=\"14.00\" fill=\"#000000\">value = 18.142</text>\n</g>\n<!-- 9&#45;&gt;10 -->\n<g id=\"edge10\" class=\"edge\">\n<title>9&#45;&gt;10</title>\n<path fill=\"none\" stroke=\"#000000\" d=\"M412.3891,-175.9465C406.8622,-167.2373 400.8494,-157.7626 395.0854,-148.6801\"/>\n<polygon fill=\"#000000\" stroke=\"#000000\" points=\"397.9729,-146.6979 389.6594,-140.13 392.0626,-150.4487 397.9729,-146.6979\"/>\n</g>\n<!-- 13 -->\n<g id=\"node14\" class=\"node\">\n<title>13</title>\n<polygon fill=\"#fdf7f2\" stroke=\"#000000\" points=\"560,-140 442,-140 442,-72 560,-72 560,-140\"/>\n<text text-anchor=\"middle\" x=\"501\" y=\"-124.8\" font-family=\"Times,serif\" font-size=\"14.00\" fill=\"#000000\">LSTAT &lt;= 19.72</text>\n<text text-anchor=\"middle\" x=\"501\" y=\"-109.8\" font-family=\"Times,serif\" font-size=\"14.00\" fill=\"#000000\">mse = 13.616</text>\n<text text-anchor=\"middle\" x=\"501\" y=\"-94.8\" font-family=\"Times,serif\" font-size=\"14.00\" fill=\"#000000\">samples = 93</text>\n<text text-anchor=\"middle\" x=\"501\" y=\"-79.8\" font-family=\"Times,serif\" font-size=\"14.00\" fill=\"#000000\">value = 12.934</text>\n</g>\n<!-- 9&#45;&gt;13 -->\n<g id=\"edge13\" class=\"edge\">\n<title>9&#45;&gt;13</title>\n<path fill=\"none\" stroke=\"#000000\" d=\"M455.9383,-175.9465C461.549,-167.2373 467.6529,-157.7626 473.5042,-148.6801\"/>\n<polygon fill=\"#000000\" stroke=\"#000000\" points=\"476.5389,-150.4321 479.0124,-140.13 470.6543,-146.641 476.5389,-150.4321\"/>\n</g>\n<!-- 11 -->\n<g id=\"node12\" class=\"node\">\n<title>11</title>\n<polygon fill=\"#c0c0c0\" stroke=\"#000000\" points=\"342,-36 288,-36 288,0 342,0 342,-36\"/>\n<text text-anchor=\"middle\" x=\"315\" y=\"-14.3\" font-family=\"Times,serif\" font-size=\"14.00\" fill=\"#000000\">(...)</text>\n</g>\n<!-- 10&#45;&gt;11 -->\n<g id=\"edge11\" class=\"edge\">\n<title>10&#45;&gt;11</title>\n<path fill=\"none\" stroke=\"#000000\" d=\"M347.5088,-71.9769C342.1181,-63.0262 336.3772,-53.4941 331.2435,-44.9703\"/>\n<polygon fill=\"#000000\" stroke=\"#000000\" points=\"334.114,-42.9525 325.9565,-36.192 328.1176,-46.5641 334.114,-42.9525\"/>\n</g>\n<!-- 12 -->\n<g id=\"node13\" class=\"node\">\n<title>12</title>\n<polygon fill=\"#c0c0c0\" stroke=\"#000000\" points=\"414,-36 360,-36 360,0 414,0 414,-36\"/>\n<text text-anchor=\"middle\" x=\"387\" y=\"-14.3\" font-family=\"Times,serif\" font-size=\"14.00\" fill=\"#000000\">(...)</text>\n</g>\n<!-- 10&#45;&gt;12 -->\n<g id=\"edge12\" class=\"edge\">\n<title>10&#45;&gt;12</title>\n<path fill=\"none\" stroke=\"#000000\" d=\"M375.3459,-71.9769C377.1962,-63.4071 379.1616,-54.3043 380.9408,-46.0638\"/>\n<polygon fill=\"#000000\" stroke=\"#000000\" points=\"384.3828,-46.7054 383.0722,-36.192 377.5405,-45.228 384.3828,-46.7054\"/>\n</g>\n<!-- 14 -->\n<g id=\"node15\" class=\"node\">\n<title>14</title>\n<polygon fill=\"#c0c0c0\" stroke=\"#000000\" points=\"486,-36 432,-36 432,0 486,0 486,-36\"/>\n<text text-anchor=\"middle\" x=\"459\" y=\"-14.3\" font-family=\"Times,serif\" font-size=\"14.00\" fill=\"#000000\">(...)</text>\n</g>\n<!-- 13&#45;&gt;14 -->\n<g id=\"edge14\" class=\"edge\">\n<title>13&#45;&gt;14</title>\n<path fill=\"none\" stroke=\"#000000\" d=\"M484.7617,-71.9769C480.5352,-63.1215 476.0371,-53.6969 472.0022,-45.2427\"/>\n<polygon fill=\"#000000\" stroke=\"#000000\" points=\"475.1486,-43.7092 467.6825,-36.192 468.8312,-46.7243 475.1486,-43.7092\"/>\n</g>\n<!-- 15 -->\n<g id=\"node16\" class=\"node\">\n<title>15</title>\n<polygon fill=\"#c0c0c0\" stroke=\"#000000\" points=\"558,-36 504,-36 504,0 558,0 558,-36\"/>\n<text text-anchor=\"middle\" x=\"531\" y=\"-14.3\" font-family=\"Times,serif\" font-size=\"14.00\" fill=\"#000000\">(...)</text>\n</g>\n<!-- 13&#45;&gt;15 -->\n<g id=\"edge15\" class=\"edge\">\n<title>13&#45;&gt;15</title>\n<path fill=\"none\" stroke=\"#000000\" d=\"M512.5988,-71.9769C515.5528,-63.3119 518.6925,-54.102 521.5263,-45.7894\"/>\n<polygon fill=\"#000000\" stroke=\"#000000\" points=\"524.8842,-46.7864 524.7982,-36.192 518.2586,-44.5277 524.8842,-46.7864\"/>\n</g>\n<!-- 17 -->\n<g id=\"node18\" class=\"node\">\n<title>17</title>\n<polygon fill=\"#f1bc96\" stroke=\"#000000\" points=\"745,-244 639,-244 639,-176 745,-176 745,-244\"/>\n<text text-anchor=\"middle\" x=\"692\" y=\"-228.8\" font-family=\"Times,serif\" font-size=\"14.00\" fill=\"#000000\">NOX &lt;= 0.659</text>\n<text text-anchor=\"middle\" x=\"692\" y=\"-213.8\" font-family=\"Times,serif\" font-size=\"14.00\" fill=\"#000000\">mse = 41.583</text>\n<text text-anchor=\"middle\" x=\"692\" y=\"-198.8\" font-family=\"Times,serif\" font-size=\"14.00\" fill=\"#000000\">samples = 45</text>\n<text text-anchor=\"middle\" x=\"692\" y=\"-183.8\" font-family=\"Times,serif\" font-size=\"14.00\" fill=\"#000000\">value = 31.384</text>\n</g>\n<!-- 16&#45;&gt;17 -->\n<g id=\"edge17\" class=\"edge\">\n<title>16&#45;&gt;17</title>\n<path fill=\"none\" stroke=\"#000000\" d=\"M692,-279.9465C692,-271.776 692,-262.9318 692,-254.3697\"/>\n<polygon fill=\"#000000\" stroke=\"#000000\" points=\"695.5001,-254.13 692,-244.13 688.5001,-254.13 695.5001,-254.13\"/>\n</g>\n<!-- 24 -->\n<g id=\"node25\" class=\"node\">\n<title>24</title>\n<polygon fill=\"#e89152\" stroke=\"#000000\" points=\"946.5,-244 835.5,-244 835.5,-176 946.5,-176 946.5,-244\"/>\n<text text-anchor=\"middle\" x=\"891\" y=\"-228.8\" font-family=\"Times,serif\" font-size=\"14.00\" fill=\"#000000\">CRIM &lt;= 2.742</text>\n<text text-anchor=\"middle\" x=\"891\" y=\"-213.8\" font-family=\"Times,serif\" font-size=\"14.00\" fill=\"#000000\">mse = 37.034</text>\n<text text-anchor=\"middle\" x=\"891\" y=\"-198.8\" font-family=\"Times,serif\" font-size=\"14.00\" fill=\"#000000\">samples = 29</text>\n<text text-anchor=\"middle\" x=\"891\" y=\"-183.8\" font-family=\"Times,serif\" font-size=\"14.00\" fill=\"#000000\">value = 44.928</text>\n</g>\n<!-- 16&#45;&gt;24 -->\n<g id=\"edge24\" class=\"edge\">\n<title>16&#45;&gt;24</title>\n<path fill=\"none\" stroke=\"#000000\" d=\"M744.025,-286.8111C769.2702,-273.6176 799.8412,-257.6408 826.5493,-243.6828\"/>\n<polygon fill=\"#000000\" stroke=\"#000000\" points=\"828.2039,-246.7673 835.4455,-239.0335 824.9617,-240.5634 828.2039,-246.7673\"/>\n</g>\n<!-- 18 -->\n<g id=\"node19\" class=\"node\">\n<title>18</title>\n<polygon fill=\"#f0b890\" stroke=\"#000000\" points=\"685,-140 581,-140 581,-72 685,-72 685,-140\"/>\n<text text-anchor=\"middle\" x=\"633\" y=\"-124.8\" font-family=\"Times,serif\" font-size=\"14.00\" fill=\"#000000\">DIS &lt;= 1.886</text>\n<text text-anchor=\"middle\" x=\"633\" y=\"-109.8\" font-family=\"Times,serif\" font-size=\"14.00\" fill=\"#000000\">mse = 21.811</text>\n<text text-anchor=\"middle\" x=\"633\" y=\"-94.8\" font-family=\"Times,serif\" font-size=\"14.00\" fill=\"#000000\">samples = 42</text>\n<text text-anchor=\"middle\" x=\"633\" y=\"-79.8\" font-family=\"Times,serif\" font-size=\"14.00\" fill=\"#000000\">value = 32.598</text>\n</g>\n<!-- 17&#45;&gt;18 -->\n<g id=\"edge18\" class=\"edge\">\n<title>17&#45;&gt;18</title>\n<path fill=\"none\" stroke=\"#000000\" d=\"M672.6812,-175.9465C667.7913,-167.3271 662.4761,-157.9579 657.3722,-148.9611\"/>\n<polygon fill=\"#000000\" stroke=\"#000000\" points=\"660.3408,-147.1008 652.3622,-140.13 654.2524,-150.5549 660.3408,-147.1008\"/>\n</g>\n<!-- 21 -->\n<g id=\"node22\" class=\"node\">\n<title>21</title>\n<polygon fill=\"#fcf2eb\" stroke=\"#000000\" points=\"800.5,-140 703.5,-140 703.5,-72 800.5,-72 800.5,-140\"/>\n<text text-anchor=\"middle\" x=\"752\" y=\"-124.8\" font-family=\"Times,serif\" font-size=\"14.00\" fill=\"#000000\">AGE &lt;= 94.9</text>\n<text text-anchor=\"middle\" x=\"752\" y=\"-109.8\" font-family=\"Times,serif\" font-size=\"14.00\" fill=\"#000000\">mse = 9.307</text>\n<text text-anchor=\"middle\" x=\"752\" y=\"-94.8\" font-family=\"Times,serif\" font-size=\"14.00\" fill=\"#000000\">samples = 3</text>\n<text text-anchor=\"middle\" x=\"752\" y=\"-79.8\" font-family=\"Times,serif\" font-size=\"14.00\" fill=\"#000000\">value = 14.4</text>\n</g>\n<!-- 17&#45;&gt;21 -->\n<g id=\"edge21\" class=\"edge\">\n<title>17&#45;&gt;21</title>\n<path fill=\"none\" stroke=\"#000000\" d=\"M711.6462,-175.9465C716.619,-167.3271 722.0243,-157.9579 727.2148,-148.9611\"/>\n<polygon fill=\"#000000\" stroke=\"#000000\" points=\"730.344,-150.5409 732.3096,-140.13 724.2807,-147.0428 730.344,-150.5409\"/>\n</g>\n<!-- 19 -->\n<g id=\"node20\" class=\"node\">\n<title>19</title>\n<polygon fill=\"#c0c0c0\" stroke=\"#000000\" points=\"630,-36 576,-36 576,0 630,0 630,-36\"/>\n<text text-anchor=\"middle\" x=\"603\" y=\"-14.3\" font-family=\"Times,serif\" font-size=\"14.00\" fill=\"#000000\">(...)</text>\n</g>\n<!-- 18&#45;&gt;19 -->\n<g id=\"edge19\" class=\"edge\">\n<title>18&#45;&gt;19</title>\n<path fill=\"none\" stroke=\"#000000\" d=\"M621.4012,-71.9769C618.4472,-63.3119 615.3075,-54.102 612.4737,-45.7894\"/>\n<polygon fill=\"#000000\" stroke=\"#000000\" points=\"615.7414,-44.5277 609.2018,-36.192 609.1158,-46.7864 615.7414,-44.5277\"/>\n</g>\n<!-- 20 -->\n<g id=\"node21\" class=\"node\">\n<title>20</title>\n<polygon fill=\"#c0c0c0\" stroke=\"#000000\" points=\"702,-36 648,-36 648,0 702,0 702,-36\"/>\n<text text-anchor=\"middle\" x=\"675\" y=\"-14.3\" font-family=\"Times,serif\" font-size=\"14.00\" fill=\"#000000\">(...)</text>\n</g>\n<!-- 18&#45;&gt;20 -->\n<g id=\"edge20\" class=\"edge\">\n<title>18&#45;&gt;20</title>\n<path fill=\"none\" stroke=\"#000000\" d=\"M649.2383,-71.9769C653.4648,-63.1215 657.9629,-53.6969 661.9978,-45.2427\"/>\n<polygon fill=\"#000000\" stroke=\"#000000\" points=\"665.1688,-46.7243 666.3175,-36.192 658.8514,-43.7092 665.1688,-46.7243\"/>\n</g>\n<!-- 22 -->\n<g id=\"node23\" class=\"node\">\n<title>22</title>\n<polygon fill=\"#c0c0c0\" stroke=\"#000000\" points=\"774,-36 720,-36 720,0 774,0 774,-36\"/>\n<text text-anchor=\"middle\" x=\"747\" y=\"-14.3\" font-family=\"Times,serif\" font-size=\"14.00\" fill=\"#000000\">(...)</text>\n</g>\n<!-- 21&#45;&gt;22 -->\n<g id=\"edge22\" class=\"edge\">\n<title>21&#45;&gt;22</title>\n<path fill=\"none\" stroke=\"#000000\" d=\"M750.0669,-71.9769C749.5854,-63.5023 749.0742,-54.5065 748.6102,-46.3388\"/>\n<polygon fill=\"#000000\" stroke=\"#000000\" points=\"752.0954,-45.9773 748.0336,-36.192 745.1066,-46.3744 752.0954,-45.9773\"/>\n</g>\n<!-- 23 -->\n<g id=\"node24\" class=\"node\">\n<title>23</title>\n<polygon fill=\"#c0c0c0\" stroke=\"#000000\" points=\"846,-36 792,-36 792,0 846,0 846,-36\"/>\n<text text-anchor=\"middle\" x=\"819\" y=\"-14.3\" font-family=\"Times,serif\" font-size=\"14.00\" fill=\"#000000\">(...)</text>\n</g>\n<!-- 21&#45;&gt;23 -->\n<g id=\"edge23\" class=\"edge\">\n<title>21&#45;&gt;23</title>\n<path fill=\"none\" stroke=\"#000000\" d=\"M777.9039,-71.9769C784.9361,-62.7406 792.4397,-52.8851 799.0848,-44.1573\"/>\n<polygon fill=\"#000000\" stroke=\"#000000\" points=\"801.8763,-46.2686 805.1493,-36.192 796.3068,-42.0282 801.8763,-46.2686\"/>\n</g>\n<!-- 25 -->\n<g id=\"node26\" class=\"node\">\n<title>25</title>\n<polygon fill=\"#e88f4e\" stroke=\"#000000\" points=\"954.5,-140 827.5,-140 827.5,-72 954.5,-72 954.5,-140\"/>\n<text text-anchor=\"middle\" x=\"891\" y=\"-124.8\" font-family=\"Times,serif\" font-size=\"14.00\" fill=\"#000000\">PTRATIO &lt;= 17.9</text>\n<text text-anchor=\"middle\" x=\"891\" y=\"-109.8\" font-family=\"Times,serif\" font-size=\"14.00\" fill=\"#000000\">mse = 18.742</text>\n<text text-anchor=\"middle\" x=\"891\" y=\"-94.8\" font-family=\"Times,serif\" font-size=\"14.00\" fill=\"#000000\">samples = 28</text>\n<text text-anchor=\"middle\" x=\"891\" y=\"-79.8\" font-family=\"Times,serif\" font-size=\"14.00\" fill=\"#000000\">value = 45.75</text>\n</g>\n<!-- 24&#45;&gt;25 -->\n<g id=\"edge25\" class=\"edge\">\n<title>24&#45;&gt;25</title>\n<path fill=\"none\" stroke=\"#000000\" d=\"M891,-175.9465C891,-167.776 891,-158.9318 891,-150.3697\"/>\n<polygon fill=\"#000000\" stroke=\"#000000\" points=\"894.5001,-150.13 891,-140.13 887.5001,-150.13 894.5001,-150.13\"/>\n</g>\n<!-- 28 -->\n<g id=\"node29\" class=\"node\">\n<title>28</title>\n<polygon fill=\"#f7dac6\" stroke=\"#000000\" points=\"1061.5,-132.5 972.5,-132.5 972.5,-79.5 1061.5,-79.5 1061.5,-132.5\"/>\n<text text-anchor=\"middle\" x=\"1017\" y=\"-117.3\" font-family=\"Times,serif\" font-size=\"14.00\" fill=\"#000000\">mse = &#45;0.0</text>\n<text text-anchor=\"middle\" x=\"1017\" y=\"-102.3\" font-family=\"Times,serif\" font-size=\"14.00\" fill=\"#000000\">samples = 1</text>\n<text text-anchor=\"middle\" x=\"1017\" y=\"-87.3\" font-family=\"Times,serif\" font-size=\"14.00\" fill=\"#000000\">value = 21.9</text>\n</g>\n<!-- 24&#45;&gt;28 -->\n<g id=\"edge28\" class=\"edge\">\n<title>24&#45;&gt;28</title>\n<path fill=\"none\" stroke=\"#000000\" d=\"M932.2571,-175.9465C946.6697,-164.0504 962.8127,-150.726 977.1117,-138.9237\"/>\n<polygon fill=\"#000000\" stroke=\"#000000\" points=\"979.3589,-141.6071 984.8431,-132.5422 974.9029,-136.2086 979.3589,-141.6071\"/>\n</g>\n<!-- 26 -->\n<g id=\"node27\" class=\"node\">\n<title>26</title>\n<polygon fill=\"#c0c0c0\" stroke=\"#000000\" points=\"918,-36 864,-36 864,0 918,0 918,-36\"/>\n<text text-anchor=\"middle\" x=\"891\" y=\"-14.3\" font-family=\"Times,serif\" font-size=\"14.00\" fill=\"#000000\">(...)</text>\n</g>\n<!-- 25&#45;&gt;26 -->\n<g id=\"edge26\" class=\"edge\">\n<title>25&#45;&gt;26</title>\n<path fill=\"none\" stroke=\"#000000\" d=\"M891,-71.9769C891,-63.5023 891,-54.5065 891,-46.3388\"/>\n<polygon fill=\"#000000\" stroke=\"#000000\" points=\"894.5001,-46.1919 891,-36.192 887.5001,-46.192 894.5001,-46.1919\"/>\n</g>\n<!-- 27 -->\n<g id=\"node28\" class=\"node\">\n<title>27</title>\n<polygon fill=\"#c0c0c0\" stroke=\"#000000\" points=\"990,-36 936,-36 936,0 990,0 990,-36\"/>\n<text text-anchor=\"middle\" x=\"963\" y=\"-14.3\" font-family=\"Times,serif\" font-size=\"14.00\" fill=\"#000000\">(...)</text>\n</g>\n<!-- 25&#45;&gt;27 -->\n<g id=\"edge27\" class=\"edge\">\n<title>25&#45;&gt;27</title>\n<path fill=\"none\" stroke=\"#000000\" d=\"M918.8371,-71.9769C926.3941,-62.7406 934.4576,-52.8851 941.5986,-44.1573\"/>\n<polygon fill=\"#000000\" stroke=\"#000000\" points=\"944.4921,-46.1479 948.1157,-36.192 939.0744,-41.7152 944.4921,-46.1479\"/>\n</g>\n</g>\n</svg>\n"
          },
          "metadata": {
            "tags": []
          },
          "execution_count": 5
        }
      ]
    },
    {
      "cell_type": "code",
      "metadata": {
        "id": "cisxbtW0g9HG",
        "colab": {
          "base_uri": "https://localhost:8080/"
        },
        "outputId": "d7951028-faaf-49bd-9858-a2fd7659ede6"
      },
      "source": [
        "#拿測試資料驗證預測\n",
        "from sklearn.metrics import r2_score\n",
        "#RMSE = ((1/n)*Σ(預測平均-ytest)^2)^0.5 (可以將預測不準的地方放大顯示，所以表示可以推測出此模型不可行)\n",
        "#MAE  = (1/n)*Σabs((預測平均-ytest))\n",
        "# r² score >= 0.5以上算是比較好的模型  0(瞎猜) <= 1-(a/b) <= 1(正常)\n",
        "\n",
        "pre = reg.predict(x_test)\n",
        "r2_score(y_test, pre)\n",
        "print(\"真正結果\", list(y_test))\n",
        "print(\"預測結果\", list(pre))\n",
        "print(\"預測r² 分數 = \", r2_score(y_test, pre))"
      ],
      "execution_count": 6,
      "outputs": [
        {
          "output_type": "stream",
          "text": [
            "真正結果 [20.2, 15.3, 37.3, 32.5, 8.8, 14.4, 22.0, 26.6, 15.0, 21.5, 29.4, 24.8, 22.0, 16.1, 13.9, 21.6, 21.7, 12.8, 7.2, 12.6, 20.7, 19.3, 36.5, 17.7, 16.7, 20.2, 50.0, 34.6, 35.4, 19.4, 20.8, 21.1, 31.1, 23.5, 8.3, 15.6, 11.3, 21.7, 23.2, 20.8, 22.0, 13.6, 28.7, 10.5, 23.0, 13.8, 36.4, 18.4, 30.1, 17.9, 29.9]\n",
            "預測結果 [21.76497175141242, 21.76497175141242, 31.94500000000001, 27.2219512195122, 10.5875, 10.5875, 31.94500000000001, 31.94500000000001, 27.9, 21.76497175141242, 27.2219512195122, 27.2219512195122, 21.76497175141242, 21.76497175141242, 10.5875, 21.76497175141242, 16.09655172413793, 10.5875, 10.5875, 15.437777777777779, 21.76497175141242, 21.76497175141242, 31.94500000000001, 15.437777777777779, 15.437777777777779, 21.76497175141242, 46.68749999999999, 31.94500000000001, 31.94500000000001, 21.76497175141242, 21.76497175141242, 21.76497175141242, 27.2219512195122, 21.76497175141242, 10.5875, 15.437777777777779, 10.5875, 21.76497175141242, 21.76497175141242, 21.76497175141242, 27.2219512195122, 16.09655172413793, 31.94500000000001, 10.5875, 21.76497175141242, 15.437777777777779, 31.94500000000001, 15.437777777777779, 27.2219512195122, 16.09655172413793, 31.94500000000001]\n",
            "預測r² 分數 =  0.8096585156043419\n"
          ],
          "name": "stdout"
        }
      ]
    }
  ]
}